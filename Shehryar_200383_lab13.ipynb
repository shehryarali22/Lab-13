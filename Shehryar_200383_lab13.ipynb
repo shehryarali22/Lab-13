{
 "cells": [
  {
   "cell_type": "markdown",
   "id": "25c75338",
   "metadata": {},
   "source": [
    "# <center>Computer Application in Engineering Design Lab<center>\n",
    "## <center>Lab 13<center>\n",
    "### Name: Shehryar Ali Khan\n",
    "### Roll No: 200383\n",
    "### Topic: Pandas "
   ]
  },
  {
   "cell_type": "code",
   "execution_count": 2,
   "id": "9eb8a5d6",
   "metadata": {},
   "outputs": [
    {
     "name": "stdout",
     "output_type": "stream",
     "text": [
      "\n",
      "******** Blues Clues ********\n",
      "   Something: 0      Acne  Bug Bunny  Micky Mouse     Alexa  lpc       xQc  \\\n",
      "0             1 -0.579818   2.769459           50 -1.386294    0 -1.386294   \n",
      "1             2 -0.994252   3.319626           58 -1.386294    0 -1.386294   \n",
      "2             3 -0.510826   2.691243           74 -1.386294    0 -1.386294   \n",
      "3             4 -1.203973   3.282789           58 -1.386294    0 -1.386294   \n",
      "4             5  0.751416   3.432373           62 -1.386294    0 -1.386294   \n",
      "5            93  2.830268   3.876396           68 -1.386294    1  1.321756   \n",
      "6            94  3.821004   3.896909           44 -1.386294    1  2.169054   \n",
      "7            95  2.907447   3.396185           52 -1.386294    1  2.463853   \n",
      "8            96  2.882564   3.773910           68  1.558145    1  1.558145   \n",
      "9            97  3.471966   3.974998           68  0.438255    1  2.904165   \n",
      "\n",
      "   glaceon  pikachu      lala  \n",
      "0        6        0 -0.430783  \n",
      "1        6        0 -0.162519  \n",
      "2        7       20 -0.162519  \n",
      "3        6        0 -0.162519  \n",
      "4        6        0  0.371564  \n",
      "5        7       60  4.385147  \n",
      "6        7       40  4.684443  \n",
      "7        7       10  5.143124  \n",
      "8        7       80  5.477509  \n",
      "9        7       20  5.582932  \n"
     ]
    }
   ],
   "source": [
    "import numpy as np\n",
    "np.set_printoptions(suppress=True)\n",
    "# Creating a csv File \n",
    "import pandas as do \n",
    "import csv\n",
    "feilds = [\"Something: 0\", \"Acne\", \"Bug Bunny\", \"Micky Mouse\", \"Alexa\", \"lpc\", \"xQc\", \"glaceon\", \"pikachu\", \"lala\"]\n",
    "rows =[\n",
    "       [1, -0.579818, 2.769459, 50, -1.386294, 0, -1.386294, 6, 0,  -0.430783],\n",
    "       [2, -0.994252, 3.319626, 58, -1.386294, 0, -1.386294, 6, 0,  -0.162519],\n",
    "       [3, -0.510826, 2.691243, 74, -1.386294, 0, -1.386294, 7, 20, -0.162519],\n",
    "       [4, -1.203973, 3.282789, 58, -1.386294, 0, -1.386294, 6, 0,  -0.162519],\n",
    "       [5,  0.751416, 3.432373, 62, -1.386294, 0, -1.386294, 6, 0,   0.371564],\n",
    "       [93, 2.830268, 3.876396, 68, -1.386294, 1,  1.321756, 7, 60,  4.385147],\n",
    "       [94, 3.821004, 3.896909, 44, -1.386294, 1,  2.169054, 7, 40,  4.684443],\n",
    "       [95, 2.907447, 3.396185, 52, -1.386294, 1,  2.463853, 7, 10,  5.143124],\n",
    "       [96, 2.882564, 3.773910, 68,  1.558145, 1 , 1.558145, 7, 80,  5.477509],\n",
    "       [97, 3.471966, 3.974998, 68,  0.438255, 1,  2.904165, 7, 20,  5.582932]]\n",
    "filename = \"prostate.csv\"\n",
    "# writing above rown and column in csv file\n",
    "with open(filename, \"w\", newline = \"\") as f:\n",
    "        x = csv.writer(f, delimiter=\",\")\n",
    "        x.writerow(feilds)\n",
    "        x.writerows(rows)\n",
    "# Loadinf Data from CSV file and reading\n",
    "print(\"\\n******** Blues Clues ********\")          \n",
    "random = do.read_csv(filename)\n",
    "print(random)"
   ]
  },
  {
   "cell_type": "code",
   "execution_count": 3,
   "id": "81fbe9e5",
   "metadata": {},
   "outputs": [
    {
     "name": "stdout",
     "output_type": "stream",
     "text": [
      "   Something: 0      Acne  Bug Bunny  Micky Mouse     Alexa  lpc       xQc  \\\n",
      "0             1 -0.579818   2.769459           50 -1.386294    0 -1.386294   \n",
      "1             2 -0.994252   3.319626           58 -1.386294    0 -1.386294   \n",
      "2             3 -0.510826   2.691243           74 -1.386294    0 -1.386294   \n",
      "\n",
      "   glaceon  pikachu      lala  \n",
      "0        6        0 -0.430783  \n",
      "1        6        0 -0.162519  \n",
      "2        7       20 -0.162519  \n",
      "   Something: 0      Acne  Bug Bunny  Micky Mouse     Alexa  lpc       xQc  \\\n",
      "7            95  2.907447   3.396185           52 -1.386294    1  2.463853   \n",
      "8            96  2.882564   3.773910           68  1.558145    1  1.558145   \n",
      "9            97  3.471966   3.974998           68  0.438255    1  2.904165   \n",
      "\n",
      "   glaceon  pikachu      lala  \n",
      "7        7       10  5.143124  \n",
      "8        7       80  5.477509  \n",
      "9        7       20  5.582932  \n"
     ]
    }
   ],
   "source": [
    "# Taking only first 3 rows and last 3 rows of file\n",
    "print(random.head(3))  \n",
    "print(random.tail(3))"
   ]
  },
  {
   "cell_type": "code",
   "execution_count": 4,
   "id": "fb54dddc",
   "metadata": {},
   "outputs": [
    {
     "name": "stdout",
     "output_type": "stream",
     "text": [
      "RangeIndex(start=0, stop=10, step=1)\n"
     ]
    }
   ],
   "source": [
    "# for finding the index of a file we use .index method \n",
    "print(random.index)"
   ]
  },
  {
   "cell_type": "code",
   "execution_count": 5,
   "id": "20b1a48f",
   "metadata": {},
   "outputs": [
    {
     "name": "stdout",
     "output_type": "stream",
     "text": [
      "[[ 1.       -0.579818  2.769459 50.       -1.386294  0.       -1.386294\n",
      "   6.        0.       -0.430783]\n",
      " [ 2.       -0.994252  3.319626 58.       -1.386294  0.       -1.386294\n",
      "   6.        0.       -0.162519]\n",
      " [ 3.       -0.510826  2.691243 74.       -1.386294  0.       -1.386294\n",
      "   7.       20.       -0.162519]\n",
      " [ 4.       -1.203973  3.282789 58.       -1.386294  0.       -1.386294\n",
      "   6.        0.       -0.162519]\n",
      " [ 5.        0.751416  3.432373 62.       -1.386294  0.       -1.386294\n",
      "   6.        0.        0.371564]\n",
      " [93.        2.830268  3.876396 68.       -1.386294  1.        1.321756\n",
      "   7.       60.        4.385147]\n",
      " [94.        3.821004  3.896909 44.       -1.386294  1.        2.169054\n",
      "   7.       40.        4.684443]\n",
      " [95.        2.907447  3.396185 52.       -1.386294  1.        2.463853\n",
      "   7.       10.        5.143124]\n",
      " [96.        2.882564  3.77391  68.        1.558145  1.        1.558145\n",
      "   7.       80.        5.477509]\n",
      " [97.        3.471966  3.974998 68.        0.438255  1.        2.904165\n",
      "   7.       20.        5.582932]]\n"
     ]
    }
   ],
   "source": [
    "# For converting pandas to numpy we use .to_numpy()method\n",
    "a = random.to_numpy()  # convert pandas to numpy    \n",
    "print(a)"
   ]
  },
  {
   "cell_type": "code",
   "execution_count": 7,
   "id": "0c29cf6d",
   "metadata": {},
   "outputs": [
    {
     "name": "stdout",
     "output_type": "stream",
     "text": [
      "[[ 1.       -0.579818  2.769459 50.       -1.386294  0.       -1.386294\n",
      "   6.        0.       -0.430783]\n",
      " [ 2.       -0.994252  3.319626 58.       -1.386294  0.       -1.386294\n",
      "   6.        0.       -0.162519]\n",
      " [ 3.       -0.510826  2.691243 74.       -1.386294  0.       -1.386294\n",
      "   7.       20.       -0.162519]\n",
      " [ 4.       -1.203973  3.282789 58.       -1.386294  0.       -1.386294\n",
      "   6.        0.       -0.162519]\n",
      " [ 5.        0.751416  3.432373 62.       -1.386294  0.       -1.386294\n",
      "   6.        0.        0.371564]\n",
      " [93.        2.830268  3.876396 68.       -1.386294  1.        1.321756\n",
      "   7.       60.        4.385147]\n",
      " [94.        3.821004  3.896909 44.       -1.386294  1.        2.169054\n",
      "   7.       40.        4.684443]\n",
      " [95.        2.907447  3.396185 52.       -1.386294  1.        2.463853\n",
      "   7.       10.        5.143124]\n",
      " [96.        2.882564  3.77391  68.        1.558145  1.        1.558145\n",
      "   7.       80.        5.477509]\n",
      " [97.        3.471966  3.974998 68.        0.438255  1.        2.904165\n",
      "   7.       20.        5.582932]]\n"
     ]
    },
    {
     "data": {
      "text/html": [
       "<div>\n",
       "<style scoped>\n",
       "    .dataframe tbody tr th:only-of-type {\n",
       "        vertical-align: middle;\n",
       "    }\n",
       "\n",
       "    .dataframe tbody tr th {\n",
       "        vertical-align: top;\n",
       "    }\n",
       "\n",
       "    .dataframe thead th {\n",
       "        text-align: right;\n",
       "    }\n",
       "</style>\n",
       "<table border=\"1\" class=\"dataframe\">\n",
       "  <thead>\n",
       "    <tr style=\"text-align: right;\">\n",
       "      <th></th>\n",
       "      <th>0</th>\n",
       "      <th>1</th>\n",
       "      <th>2</th>\n",
       "      <th>3</th>\n",
       "      <th>4</th>\n",
       "      <th>5</th>\n",
       "      <th>6</th>\n",
       "      <th>7</th>\n",
       "      <th>8</th>\n",
       "      <th>9</th>\n",
       "    </tr>\n",
       "  </thead>\n",
       "  <tbody>\n",
       "    <tr>\n",
       "      <th>Something: 0</th>\n",
       "      <td>1.000000</td>\n",
       "      <td>2.000000</td>\n",
       "      <td>3.000000</td>\n",
       "      <td>4.000000</td>\n",
       "      <td>5.000000</td>\n",
       "      <td>93.000000</td>\n",
       "      <td>94.000000</td>\n",
       "      <td>95.000000</td>\n",
       "      <td>96.000000</td>\n",
       "      <td>97.000000</td>\n",
       "    </tr>\n",
       "    <tr>\n",
       "      <th>Acne</th>\n",
       "      <td>-0.579818</td>\n",
       "      <td>-0.994252</td>\n",
       "      <td>-0.510826</td>\n",
       "      <td>-1.203973</td>\n",
       "      <td>0.751416</td>\n",
       "      <td>2.830268</td>\n",
       "      <td>3.821004</td>\n",
       "      <td>2.907447</td>\n",
       "      <td>2.882564</td>\n",
       "      <td>3.471966</td>\n",
       "    </tr>\n",
       "    <tr>\n",
       "      <th>Bug Bunny</th>\n",
       "      <td>2.769459</td>\n",
       "      <td>3.319626</td>\n",
       "      <td>2.691243</td>\n",
       "      <td>3.282789</td>\n",
       "      <td>3.432373</td>\n",
       "      <td>3.876396</td>\n",
       "      <td>3.896909</td>\n",
       "      <td>3.396185</td>\n",
       "      <td>3.773910</td>\n",
       "      <td>3.974998</td>\n",
       "    </tr>\n",
       "    <tr>\n",
       "      <th>Micky Mouse</th>\n",
       "      <td>50.000000</td>\n",
       "      <td>58.000000</td>\n",
       "      <td>74.000000</td>\n",
       "      <td>58.000000</td>\n",
       "      <td>62.000000</td>\n",
       "      <td>68.000000</td>\n",
       "      <td>44.000000</td>\n",
       "      <td>52.000000</td>\n",
       "      <td>68.000000</td>\n",
       "      <td>68.000000</td>\n",
       "    </tr>\n",
       "    <tr>\n",
       "      <th>Alexa</th>\n",
       "      <td>-1.386294</td>\n",
       "      <td>-1.386294</td>\n",
       "      <td>-1.386294</td>\n",
       "      <td>-1.386294</td>\n",
       "      <td>-1.386294</td>\n",
       "      <td>-1.386294</td>\n",
       "      <td>-1.386294</td>\n",
       "      <td>-1.386294</td>\n",
       "      <td>1.558145</td>\n",
       "      <td>0.438255</td>\n",
       "    </tr>\n",
       "    <tr>\n",
       "      <th>lpc</th>\n",
       "      <td>0.000000</td>\n",
       "      <td>0.000000</td>\n",
       "      <td>0.000000</td>\n",
       "      <td>0.000000</td>\n",
       "      <td>0.000000</td>\n",
       "      <td>1.000000</td>\n",
       "      <td>1.000000</td>\n",
       "      <td>1.000000</td>\n",
       "      <td>1.000000</td>\n",
       "      <td>1.000000</td>\n",
       "    </tr>\n",
       "    <tr>\n",
       "      <th>xQc</th>\n",
       "      <td>-1.386294</td>\n",
       "      <td>-1.386294</td>\n",
       "      <td>-1.386294</td>\n",
       "      <td>-1.386294</td>\n",
       "      <td>-1.386294</td>\n",
       "      <td>1.321756</td>\n",
       "      <td>2.169054</td>\n",
       "      <td>2.463853</td>\n",
       "      <td>1.558145</td>\n",
       "      <td>2.904165</td>\n",
       "    </tr>\n",
       "    <tr>\n",
       "      <th>glaceon</th>\n",
       "      <td>6.000000</td>\n",
       "      <td>6.000000</td>\n",
       "      <td>7.000000</td>\n",
       "      <td>6.000000</td>\n",
       "      <td>6.000000</td>\n",
       "      <td>7.000000</td>\n",
       "      <td>7.000000</td>\n",
       "      <td>7.000000</td>\n",
       "      <td>7.000000</td>\n",
       "      <td>7.000000</td>\n",
       "    </tr>\n",
       "    <tr>\n",
       "      <th>pikachu</th>\n",
       "      <td>0.000000</td>\n",
       "      <td>0.000000</td>\n",
       "      <td>20.000000</td>\n",
       "      <td>0.000000</td>\n",
       "      <td>0.000000</td>\n",
       "      <td>60.000000</td>\n",
       "      <td>40.000000</td>\n",
       "      <td>10.000000</td>\n",
       "      <td>80.000000</td>\n",
       "      <td>20.000000</td>\n",
       "    </tr>\n",
       "    <tr>\n",
       "      <th>lala</th>\n",
       "      <td>-0.430783</td>\n",
       "      <td>-0.162519</td>\n",
       "      <td>-0.162519</td>\n",
       "      <td>-0.162519</td>\n",
       "      <td>0.371564</td>\n",
       "      <td>4.385147</td>\n",
       "      <td>4.684443</td>\n",
       "      <td>5.143124</td>\n",
       "      <td>5.477509</td>\n",
       "      <td>5.582932</td>\n",
       "    </tr>\n",
       "  </tbody>\n",
       "</table>\n",
       "</div>"
      ],
      "text/plain": [
       "                      0          1          2          3          4  \\\n",
       "Something: 0   1.000000   2.000000   3.000000   4.000000   5.000000   \n",
       "Acne          -0.579818  -0.994252  -0.510826  -1.203973   0.751416   \n",
       "Bug Bunny      2.769459   3.319626   2.691243   3.282789   3.432373   \n",
       "Micky Mouse   50.000000  58.000000  74.000000  58.000000  62.000000   \n",
       "Alexa         -1.386294  -1.386294  -1.386294  -1.386294  -1.386294   \n",
       "lpc            0.000000   0.000000   0.000000   0.000000   0.000000   \n",
       "xQc           -1.386294  -1.386294  -1.386294  -1.386294  -1.386294   \n",
       "glaceon        6.000000   6.000000   7.000000   6.000000   6.000000   \n",
       "pikachu        0.000000   0.000000  20.000000   0.000000   0.000000   \n",
       "lala          -0.430783  -0.162519  -0.162519  -0.162519   0.371564   \n",
       "\n",
       "                      5          6          7          8          9  \n",
       "Something: 0  93.000000  94.000000  95.000000  96.000000  97.000000  \n",
       "Acne           2.830268   3.821004   2.907447   2.882564   3.471966  \n",
       "Bug Bunny      3.876396   3.896909   3.396185   3.773910   3.974998  \n",
       "Micky Mouse   68.000000  44.000000  52.000000  68.000000  68.000000  \n",
       "Alexa         -1.386294  -1.386294  -1.386294   1.558145   0.438255  \n",
       "lpc            1.000000   1.000000   1.000000   1.000000   1.000000  \n",
       "xQc            1.321756   2.169054   2.463853   1.558145   2.904165  \n",
       "glaceon        7.000000   7.000000   7.000000   7.000000   7.000000  \n",
       "pikachu       60.000000  40.000000  10.000000  80.000000  20.000000  \n",
       "lala           4.385147   4.684443   5.143124   5.477509   5.582932  "
      ]
     },
     "execution_count": 7,
     "metadata": {},
     "output_type": "execute_result"
    }
   ],
   "source": [
    "convert = random.to_numpy()  # convert pandas to numpy    \n",
    "print(convert)\n",
    "random.T"
   ]
  },
  {
   "cell_type": "code",
   "execution_count": 9,
   "id": "1ac0097d",
   "metadata": {},
   "outputs": [
    {
     "name": "stdout",
     "output_type": "stream",
     "text": [
      "(10, 10)\n"
     ]
    }
   ],
   "source": [
    "# for findning shape of pandas we use .shape method\n",
    "print(random.shape)   "
   ]
  },
  {
   "cell_type": "code",
   "execution_count": 10,
   "id": "fde192ff",
   "metadata": {},
   "outputs": [
    {
     "name": "stdout",
     "output_type": "stream",
     "text": [
      "(10, 10)\n"
     ]
    }
   ],
   "source": [
    "# shape of numpy array\n",
    "print(convert.shape)"
   ]
  },
  {
   "cell_type": "code",
   "execution_count": 11,
   "id": "f592ef13",
   "metadata": {},
   "outputs": [
    {
     "name": "stdout",
     "output_type": "stream",
     "text": [
      "   Something: 0      Acne  Bug Bunny  Micky Mouse     Alexa  lpc       xQc  \\\n",
      "0             1 -0.579818   2.769459           50 -1.386294    0 -1.386294   \n",
      "1             2 -0.994252   3.319626           58 -1.386294    0 -1.386294   \n",
      "2             3 -0.510826   2.691243           74 -1.386294    0 -1.386294   \n",
      "3             4 -1.203973   3.282789           58 -1.386294    0 -1.386294   \n",
      "4             5  0.751416   3.432373           62 -1.386294    0 -1.386294   \n",
      "5            93  2.830268   3.876396           68 -1.386294    1  1.321756   \n",
      "6            94  3.821004   3.896909           44 -1.386294    1  2.169054   \n",
      "7            95  2.907447   3.396185           52 -1.386294    1  2.463853   \n",
      "8            96  2.882564   3.773910           68  1.558145    1  1.558145   \n",
      "9            97  3.471966   3.974998           68  0.438255    1  2.904165   \n",
      "\n",
      "   glaceon  pikachu      lala  \n",
      "0        6        0 -0.430783  \n",
      "1        6        0 -0.162519  \n",
      "2        7       20 -0.162519  \n",
      "3        6        0 -0.162519  \n",
      "4        6        0  0.371564  \n",
      "5        7       60  4.385147  \n",
      "6        7       40  4.684443  \n",
      "7        7       10  5.143124  \n",
      "8        7       80  5.477509  \n",
      "9        7       20  5.582932  \n"
     ]
    }
   ],
   "source": [
    "print(random)"
   ]
  },
  {
   "cell_type": "code",
   "execution_count": 12,
   "id": "f44feffc",
   "metadata": {},
   "outputs": [
    {
     "name": "stdout",
     "output_type": "stream",
     "text": [
      "0   -0.579818\n",
      "1   -0.994252\n",
      "2   -0.510826\n",
      "3   -1.203973\n",
      "4    0.751416\n",
      "5    2.830268\n",
      "6    3.821004\n",
      "7    2.907447\n",
      "8    2.882564\n",
      "9    3.471966\n",
      "Name: Acne, dtype: float64\n"
     ]
    }
   ],
   "source": [
    "# lcavol is the first column of dataset, check\n",
    "c = random[\"Acne\"]    \n",
    "print(c)\n",
    "# it is still pandas"
   ]
  },
  {
   "cell_type": "code",
   "execution_count": 13,
   "id": "5f312196",
   "metadata": {},
   "outputs": [
    {
     "name": "stdout",
     "output_type": "stream",
     "text": [
      "[-0.579818 -0.994252 -0.510826 -1.203973  0.751416  2.830268  3.821004\n",
      "  2.907447  2.882564  3.471966]\n",
      "(10,)\n"
     ]
    }
   ],
   "source": [
    "# converting the fist coloumn of pandas to numpy accessing it through lcavol\n",
    "d = c.to_numpy()\n",
    "print(d)\n",
    "print(d.shape)"
   ]
  },
  {
   "cell_type": "code",
   "execution_count": 15,
   "id": "4c84f6fa",
   "metadata": {},
   "outputs": [
    {
     "name": "stdout",
     "output_type": "stream",
     "text": [
      "(10, 1)\n"
     ]
    }
   ],
   "source": [
    "# Representing coloumns and rows \n",
    "d = d.reshape(d.shape[0],1)\n",
    "print(d.shape)"
   ]
  },
  {
   "cell_type": "code",
   "execution_count": 16,
   "id": "7b2f0807",
   "metadata": {},
   "outputs": [
    {
     "name": "stdout",
     "output_type": "stream",
     "text": [
      "   Something: 0      Acne  Bug Bunny  Micky Mouse     Alexa  lpc       xQc  \\\n",
      "0             1 -0.579818   2.769459           50 -1.386294    0 -1.386294   \n",
      "1             2 -0.994252   3.319626           58 -1.386294    0 -1.386294   \n",
      "2             3 -0.510826   2.691243           74 -1.386294    0 -1.386294   \n",
      "3             4 -1.203973   3.282789           58 -1.386294    0 -1.386294   \n",
      "4             5  0.751416   3.432373           62 -1.386294    0 -1.386294   \n",
      "5            93  2.830268   3.876396           68 -1.386294    1  1.321756   \n",
      "6            94  3.821004   3.896909           44 -1.386294    1  2.169054   \n",
      "7            95  2.907447   3.396185           52 -1.386294    1  2.463853   \n",
      "8            96  2.882564   3.773910           68  1.558145    1  1.558145   \n",
      "9            97  3.471966   3.974998           68  0.438255    1  2.904165   \n",
      "\n",
      "   glaceon  pikachu      lala  \n",
      "0        6        0 -0.430783  \n",
      "1        6        0 -0.162519  \n",
      "2        7       20 -0.162519  \n",
      "3        6        0 -0.162519  \n",
      "4        6        0  0.371564  \n",
      "5        7       60  4.385147  \n",
      "6        7       40  4.684443  \n",
      "7        7       10  5.143124  \n",
      "8        7       80  5.477509  \n",
      "9        7       20  5.582932  \n"
     ]
    }
   ],
   "source": [
    "# similarly we can seperate out any column as a numpy array\n",
    "# slice out many columns together from pandas dataframe\n",
    "# lets load the data again\n",
    "file = do.read_csv(filename)\n",
    "print(file)"
   ]
  },
  {
   "cell_type": "code",
   "execution_count": 17,
   "id": "8ef1906d",
   "metadata": {},
   "outputs": [
    {
     "name": "stdout",
     "output_type": "stream",
     "text": [
      "(10, 8)\n",
      "(10, 1)\n",
      "[[-0.579818  2.769459 50.       -1.386294  0.       -1.386294  6.\n",
      "   0.      ]\n",
      " [-0.994252  3.319626 58.       -1.386294  0.       -1.386294  6.\n",
      "   0.      ]\n",
      " [-0.510826  2.691243 74.       -1.386294  0.       -1.386294  7.\n",
      "  20.      ]\n",
      " [-1.203973  3.282789 58.       -1.386294  0.       -1.386294  6.\n",
      "   0.      ]\n",
      " [ 0.751416  3.432373 62.       -1.386294  0.       -1.386294  6.\n",
      "   0.      ]\n",
      " [ 2.830268  3.876396 68.       -1.386294  1.        1.321756  7.\n",
      "  60.      ]\n",
      " [ 3.821004  3.896909 44.       -1.386294  1.        2.169054  7.\n",
      "  40.      ]\n",
      " [ 2.907447  3.396185 52.       -1.386294  1.        2.463853  7.\n",
      "  10.      ]\n",
      " [ 2.882564  3.77391  68.        1.558145  1.        1.558145  7.\n",
      "  80.      ]\n",
      " [ 3.471966  3.974998 68.        0.438255  1.        2.904165  7.\n",
      "  20.      ]]\n"
     ]
    }
   ],
   "source": [
    "file = np.array(file) #pandas data frame to numpy\n",
    "q = file [::,1:9]\n",
    "w = file [::,9:10]\n",
    "print(q.shape)\n",
    "print(w.shape)\n",
    "\n",
    "print(q)"
   ]
  },
  {
   "cell_type": "code",
   "execution_count": 19,
   "id": "1001d4af",
   "metadata": {},
   "outputs": [
    {
     "data": {
      "image/png": "[encoded data removed]",
      "text/plain": [
       "<Figure size 432x288 with 1 Axes>"
      ]
     },
     "metadata": {
      "needs_background": "light"
     },
     "output_type": "display_data"
    }
   ],
   "source": [
    "# Y value with respect to X\n",
    "\n",
    "import matplotlib.pyplot as pyp\n",
    "import numpy as np\n",
    "\n",
    "apoints = np.array([0, 69])\n",
    "bpoints = np.array([0, 420])\n",
    "\n",
    "pyp.plot(apoints, bpoints)\n",
    "pyp.xlabel(\"Economy\")\n",
    "pyp.ylabel(\"Elon Muck\")\n",
    "pyp.title(\"Stonks\")\n",
    "pyp.show()"
   ]
  },
  {
   "cell_type": "code",
   "execution_count": 20,
   "id": "a8e2db69",
   "metadata": {},
   "outputs": [
    {
     "data": {
      "image/png": "[encoded data removed]",
      "text/plain": [
       "<Figure size 432x288 with 1 Axes>"
      ]
     },
     "metadata": {
      "needs_background": "light"
     },
     "output_type": "display_data"
    }
   ],
   "source": [
    "# Y value with respect to index\n",
    "\n",
    "import matplotlib.pyplot as pyp\n",
    "import numpy as np\n",
    "\n",
    "cpoints = np.array([3, 8, 3, 3, 8, 3])\n",
    "\n",
    "pyp.plot(cpoints, marker = 'o')\n",
    "pyp.xlabel(\"Chad\")\n",
    "pyp.ylabel(\"Based\")\n",
    "pyp.title(\"Alpha Energy\")\n",
    "pyp.show()"
   ]
  },
  {
   "cell_type": "code",
   "execution_count": 21,
   "id": "34368a0d",
   "metadata": {},
   "outputs": [
    {
     "data": {
      "image/png": "[encoded data removed]",
      "text/plain": [
       "<Figure size 432x288 with 1 Axes>"
      ]
     },
     "metadata": {
      "needs_background": "light"
     },
     "output_type": "display_data"
    }
   ],
   "source": [
    "# Y value with respect to index\n",
    "import matplotlib.pyplot as pyp\n",
    "import numpy as np\n",
    "\n",
    "zpoints = np.array([3, 8, 3, 3, 8, 3])\n",
    "\n",
    "pyp.plot(zpoints, linestyle = 'dotted')\n",
    "pyp.xlabel(\"Chad\")\n",
    "pyp.ylabel(\"Based\")\n",
    "pyp.title(\"Alpha Energy but dotted\")\n",
    "pyp.show()"
   ]
  },
  {
   "cell_type": "code",
   "execution_count": 22,
   "id": "fd7ff5dc",
   "metadata": {},
   "outputs": [
    {
     "data": {
      "image/png": "[encoded data removed]",
      "text/plain": [
       "<Figure size 432x288 with 1 Axes>"
      ]
     },
     "metadata": {
      "needs_background": "light"
     },
     "output_type": "display_data"
    }
   ],
   "source": [
    "t = np.array([10, 20, 30, 40, 50, 60, 70, 80, 90, 100])\n",
    "y = np.array([150, 160, 170, 180, 190, 200, 210, 220, 230, 240])\n",
    "\n",
    "pyp.title(\"Attraction Chart\")\n",
    "pyp.xlabel(\"Crazy\")\n",
    "pyp.ylabel(\"Hot\")\n",
    "\n",
    "pyp.plot(t, y)\n",
    "\n",
    "pyp.grid()\n",
    "\n",
    "pyp.show()"
   ]
  },
  {
   "cell_type": "code",
   "execution_count": 23,
   "id": "4410cb06",
   "metadata": {},
   "outputs": [
    {
     "data": {
      "text/plain": [
       "[<matplotlib.lines.Line2D at 0x1f50fa237f0>]"
      ]
     },
     "execution_count": 23,
     "metadata": {},
     "output_type": "execute_result"
    },
    {
     "data": {
      "image/png": "[encoded data removed]",
      "text/plain": [
       "<Figure size 432x288 with 1 Axes>"
      ]
     },
     "metadata": {
      "needs_background": "light"
     },
     "output_type": "display_data"
    }
   ],
   "source": [
    "# subplots\n",
    "#plot 1:\n",
    "j = np.array([1, 2, 3, 4])\n",
    "k = np.array([3, 8, 3, 3])\n",
    "\n",
    "pyp.subplot(1, 2, 1)\n",
    "pyp.plot(j,k)"
   ]
  },
  {
   "cell_type": "code",
   "execution_count": 24,
   "id": "df76e7af",
   "metadata": {},
   "outputs": [
    {
     "data": {
      "image/png": "[encoded data removed]",
      "text/plain": [
       "<Figure size 432x288 with 1 Axes>"
      ]
     },
     "metadata": {
      "needs_background": "light"
     },
     "output_type": "display_data"
    }
   ],
   "source": [
    "#plot 2:\n",
    "ayy = np.array([1, 2, 3, 4])\n",
    "yay = np.array([10, 20, 30, 40])\n",
    "\n",
    "pyp.subplot(1, 2, 2)\n",
    "pyp.plot(ayy,yay)\n",
    "\n",
    "pyp.show()"
   ]
  },
  {
   "cell_type": "code",
   "execution_count": 25,
   "id": "188a9578",
   "metadata": {},
   "outputs": [
    {
     "data": {
      "image/png": "[encoded data removed]",
      "text/plain": [
       "<Figure size 432x288 with 1 Axes>"
      ]
     },
     "metadata": {
      "needs_background": "light"
     },
     "output_type": "display_data"
    }
   ],
   "source": [
    "# Scatter Plot\n",
    "hay = np.array([3,8,3,2,55,7,2,19,42,21,15,91,69])\n",
    "gay = np.array([77,6,82,78,111,26,13,12,64,78,24,85,56])\n",
    "\n",
    "pyp.scatter(hay, gay)\n",
    "pyp.show()"
   ]
  },
  {
   "cell_type": "code",
   "execution_count": 29,
   "id": "4fc09acd",
   "metadata": {},
   "outputs": [
    {
     "data": {
      "image/png": "[encoded data removed]",
      "text/plain": [
       "<Figure size 432x288 with 1 Axes>"
      ]
     },
     "metadata": {
      "needs_background": "light"
     },
     "output_type": "display_data"
    }
   ],
   "source": [
    "free = np.array([3,8,3,2,55,7,2,19,42,21,15,91,69])\n",
    "guy = np.array([77,6,82,78,111,26,13,12,64,78,24,85,56])\n",
    "\n",
    "pyp.scatter(free, guy, color = 'g', marker = 'x')\n",
    "pyp.show()"
   ]
  },
  {
   "cell_type": "code",
   "execution_count": 31,
   "id": "3a482f81",
   "metadata": {},
   "outputs": [
    {
     "data": {
      "image/png": "[encoded data removed]",
      "text/plain": [
       "<Figure size 432x288 with 1 Axes>"
      ]
     },
     "metadata": {
      "needs_background": "light"
     },
     "output_type": "display_data"
    }
   ],
   "source": [
    "import matplotlib.pyplot as pyp\n",
    "import numpy as np\n",
    "\n",
    "he = np.array([\"Superman\", \"Goku\", \"Will Smith\", \"Eric Cartman\"])\n",
    "she = np.array([11, 8, 21, 1])\n",
    "\n",
    "pyp.title(\"Power levels\")\n",
    "pyp.bar(he,she)\n",
    "pyp.show()"
   ]
  },
  {
   "cell_type": "code",
   "execution_count": 32,
   "id": "1aa64933",
   "metadata": {},
   "outputs": [
    {
     "data": {
      "image/png": "[encoded data removed]",
      "text/plain": [
       "<Figure size 432x288 with 1 Axes>"
      ]
     },
     "metadata": {},
     "output_type": "display_data"
    }
   ],
   "source": [
    "import matplotlib.pyplot as pyp\n",
    "import numpy as np\n",
    "\n",
    "chart = np.array([69, 1, 25, 5])\n",
    "\n",
    "pyp.pie(chart)\n",
    "pyp.show() \n"
   ]
  },
  {
   "cell_type": "code",
   "execution_count": null,
   "id": "c0e4d904",
   "metadata": {},
   "outputs": [],
   "source": []
  }
 ],
 "metadata": {
  "kernelspec": {
   "display_name": "Python 3 (ipykernel)",
   "language": "python",
   "name": "python3"
  },
  "language_info": {
   "codemirror_mode": {
    "name": "ipython",
    "version": 3
   },
   "file_extension": ".py",
   "mimetype": "text/x-python",
   "name": "python",
   "nbconvert_exporter": "python",
   "pygments_lexer": "ipython3",
   "version": "3.9.7"
  }
 },
 "nbformat": 4,
 "nbformat_minor": 5
}
